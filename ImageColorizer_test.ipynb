{
  "cells": [
    {
      "cell_type": "markdown",
      "metadata": {
        "id": "view-in-github",
        "colab_type": "text"
      },
      "source": [
        "<a href=\"https://colab.research.google.com/github/sugi-san/DeOldify/blob/master/ImageColorizer_test.ipynb\" target=\"_parent\"><img src=\"https://colab.research.google.com/assets/colab-badge.svg\" alt=\"Open In Colab\"/></a>"
      ]
    },
    {
      "cell_type": "markdown",
      "metadata": {
        "id": "EhbXf2XSo4ME"
      },
      "source": [
        "### **<font color='blue'> Artistic Colorizer </font>**"
      ]
    },
    {
      "cell_type": "code",
      "execution_count": null,
      "metadata": {
        "id": "-T-svuHytJ-8",
        "cellView": "form"
      },
      "outputs": [],
      "source": [
        "#@title **1.セットアップ**\n",
        "\n",
        "! git clone https://github.com/sugi-san/DeOldify.git \n",
        "%cd DeOldify\n",
        "\n",
        "#NOTE:  This must be the first call in order to work properly!\n",
        "from deoldify import device\n",
        "from deoldify.device_id import DeviceId\n",
        "\n",
        "#choices:  CPU, GPU0...GPU7\n",
        "device.set(device=DeviceId.GPU0)\n",
        "import torch\n",
        "if not torch.cuda.is_available():\n",
        "    print('GPU not available.')\n",
        "\n",
        "# install library\n",
        "! pip install -r colab_requirements.txt\n",
        "\n",
        "# import library\n",
        "import fastai\n",
        "from deoldify.visualize import *\n",
        "import warnings\n",
        "warnings.filterwarnings(\"ignore\", category=UserWarning, message=\".*?Your .*? set is empty.*?\")\n",
        "\n",
        "# download models\n",
        "! mkdir 'models'\n",
        "! wget https://data.deepai.org/deoldify/ColorizeArtistic_gen.pth -O ./models/ColorizeArtistic_gen.pth\n",
        "! wget https://data.deepai.org/deoldify/ColorizeVideo_gen.pth -O ./models/ColorizeVideo_gen.pth\n",
        "\n",
        "# download watermark\n",
        "! wget https://media.githubusercontent.com/media/jantic/DeOldify/master/resource_images/watermark.png -O ./resource_images/watermark.png\n",
        "\n",
        "# load model\n",
        "colorizer = get_image_colorizer(artistic=True)\n",
        "colorizer_video = get_video_colorizer()\n",
        "\n",
        "# define function\n",
        "from function import *\n"
      ]
    },
    {
      "cell_type": "code",
      "execution_count": null,
      "metadata": {
        "id": "uaimHpkMMm28",
        "cellView": "form"
      },
      "outputs": [],
      "source": [
        "#@title **（リセットフォルダ）**\n",
        "\n",
        "reset_folder('test_images')\n",
        "reset_folder('result_images')\n",
        "reset_folder('compare_images')"
      ]
    },
    {
      "cell_type": "code",
      "execution_count": null,
      "metadata": {
        "id": "r7-w0iwdzXvE",
        "cellView": "form"
      },
      "outputs": [],
      "source": [
        "#@title **2.カラー化**\n",
        "\n",
        "import os\n",
        "import cv2\n",
        "from tqdm import tqdm\n",
        "import glob\n",
        "\n",
        "os.makedirs('compare_images', exist_ok=True)\n",
        "\n",
        "files = sorted(glob.glob('test_images/*.jpg'))\n",
        "for file in tqdm(files):\n",
        "    colorizer.plot_transformed_image(file,\\\n",
        "                                      render_factor=35,\\\n",
        "                                      watermarked = False,\\\n",
        "                                      display_render_factor=False,\\\n",
        "                                      compare=True,\\\n",
        "                                      figsize=(8,8))\n",
        "    \n",
        "    mono = cv2.imread(file)\n",
        "    color = cv2.imread('result_images/'+os.path.basename(file))\n",
        "    result = cv2.hconcat([mono, color])\n",
        "    cv2.imwrite('compare_images/'+os.path.basename(file), result)\n",
        "    "
      ]
    },
    {
      "cell_type": "code",
      "execution_count": null,
      "metadata": {
        "id": "ZKvl1TmCLCfa",
        "cellView": "form"
      },
      "outputs": [],
      "source": [
        "#@title **3.比較画像のダウンロード**\n",
        "#@markdown　・zip形式でまとめてダウンロードします\n",
        "! zip -q -r compare compare_images\n",
        "\n",
        "from google.colab import files\n",
        "files.download('compare.zip')\n"
      ]
    },
    {
      "cell_type": "code",
      "execution_count": null,
      "metadata": {
        "id": "WoDje2P0L7z7",
        "cellView": "form"
      },
      "outputs": [],
      "source": [
        "#@title **4.画像のダウンロード**\n",
        "#@markdown　・zip形式でまとめてダウンロードします\n",
        "! zip -q -r result result_images\n",
        "\n",
        "from google.colab import files\n",
        "files.download('result.zip')\n"
      ]
    },
    {
      "cell_type": "code",
      "execution_count": null,
      "metadata": {
        "id": "s9TVJIfBUDxV",
        "cellView": "form"
      },
      "outputs": [],
      "source": [
        "#@title **5.ビデオのカラー化**\n",
        "video_name ='02.mp4' #@param {type:\"string\"}\n",
        "render_factor =21  \n",
        "\n",
        "video_path = colorizer_video.colorize_from_file_name(video_name,\\\n",
        "                                                      render_factor,\\\n",
        "                                                      watermarked=False)\n",
        "show_video_in_notebook('video/result/'+video_name)"
      ]
    }
  ],
  "metadata": {
    "accelerator": "GPU",
    "colab": {
      "collapsed_sections": [],
      "name": "ImageColorizer_test",
      "provenance": [],
      "include_colab_link": true
    },
    "kernelspec": {
      "display_name": "Python 3",
      "language": "python",
      "name": "python3"
    },
    "language_info": {
      "codemirror_mode": {
        "name": "ipython",
        "version": 3
      },
      "file_extension": ".py",
      "mimetype": "text/x-python",
      "name": "python",
      "nbconvert_exporter": "python",
      "pygments_lexer": "ipython3",
      "version": "3.7.6"
    }
  },
  "nbformat": 4,
  "nbformat_minor": 0
}